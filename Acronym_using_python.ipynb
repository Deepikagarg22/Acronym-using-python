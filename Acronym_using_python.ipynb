{
  "nbformat": 4,
  "nbformat_minor": 0,
  "metadata": {
    "colab": {
      "provenance": [],
      "authorship_tag": "ABX9TyPk7KjjuvRjmdSTeliRaroV",
      "include_colab_link": true
    },
    "kernelspec": {
      "name": "python3",
      "display_name": "Python 3"
    },
    "language_info": {
      "name": "python"
    }
  },
  "cells": [
    {
      "cell_type": "markdown",
      "metadata": {
        "id": "view-in-github",
        "colab_type": "text"
      },
      "source": [
        "<a href=\"https://colab.research.google.com/github/Deepikagarg22/Acronym-using-python/blob/main/Acronym_using_python.ipynb\" target=\"_parent\"><img src=\"https://colab.research.google.com/assets/colab-badge.svg\" alt=\"Open In Colab\"/></a>"
      ]
    },
    {
      "cell_type": "markdown",
      "source": [
        "# **ACRONYM**"
      ],
      "metadata": {
        "id": "YOrReGmzRVKi"
      }
    },
    {
      "cell_type": "markdown",
      "source": [
        "An acronym is a short form of a word created by long words or phrases such as NLP for natural language processing."
      ],
      "metadata": {
        "id": "oTTnecTCRQze"
      }
    },
    {
      "cell_type": "code",
      "source": [
        "user_input = str(input(\"Enter a Phrase: \"))\n",
        "text = user_input.split()\n",
        "a = \" \"\n",
        "for i in text:\n",
        "    a = a+str(i[0]).upper()\n",
        "print(a)"
      ],
      "metadata": {
        "colab": {
          "base_uri": "https://localhost:8080/"
        },
        "id": "jCNSm8mxRSV7",
        "outputId": "55a819e5-c796-4e06-e9b0-b0206273e22b"
      },
      "execution_count": 8,
      "outputs": [
        {
          "output_type": "stream",
          "name": "stdout",
          "text": [
            "Enter a Phrase: good work\n",
            " GW\n"
          ]
        }
      ]
    }
  ]
}